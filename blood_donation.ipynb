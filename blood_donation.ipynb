{
 "cells": [
  {
   "cell_type": "code",
   "execution_count": 228,
   "metadata": {},
   "outputs": [
    {
     "data": {
      "text/plain": [
       "{'Cell': {'cm_config': {'lineNumbers': False}},\n",
       " 'CodeCell': {'cm_config': {'autoCloseBrackets': False}},\n",
       " 'Notebook': {'Header': False, 'Toolbar': False}}"
      ]
     },
     "execution_count": 228,
     "metadata": {},
     "output_type": "execute_result"
    }
   ],
   "source": [
    "from notebook.services.config import ConfigManager\n",
    "c = ConfigManager()\n",
    "c.update('notebook', {\"CodeCell\": {\"cm_config\": {\"autoCloseBrackets\": False}}})"
   ]
  },
  {
   "cell_type": "markdown",
   "metadata": {},
   "source": [
    "# Importing"
   ]
  },
  {
   "cell_type": "code",
   "execution_count": 229,
   "metadata": {
    "scrolled": false
   },
   "outputs": [],
   "source": [
    "import numpy as np\n",
    "import pandas as pd\n",
    "\n",
    "# For rotatable 3D plot\n",
    "#%matplotlib notebook\n",
    "\n",
    "# For regular plot\n",
    "%matplotlib inline\n",
    "import matplotlib.pyplot as plt\n",
    "from mpl_toolkits.mplot3d import Axes3D\n",
    "\n",
    "from scipy.stats import boxcox\n",
    "\n",
    "from sklearn.decomposition import PCA\n",
    "\n",
    "from sklearn.pipeline import Pipeline\n",
    "from sklearn.preprocessing import StandardScaler, PolynomialFeatures, RobustScaler\n",
    "from sklearn.model_selection import train_test_split, cross_val_score, GridSearchCV\n",
    "\n",
    "from sklearn.linear_model import LogisticRegression, SGDClassifier\n",
    "from sklearn.neighbors import KNeighborsClassifier\n",
    "from sklearn.svm import SVC\n",
    "\n",
    "from xgboost import XGBClassifier\n",
    "\n",
    "from sklearn.metrics import roc_curve, log_loss\n",
    "\n",
    "from keras.callbacks import EarlyStopping \n",
    "from keras.layers import Dense\n",
    "from keras.models import Sequential\n",
    "from keras.optimizers import Adam, SGD"
   ]
  },
  {
   "cell_type": "markdown",
   "metadata": {},
   "source": [
    "# Data preparation"
   ]
  },
  {
   "cell_type": "markdown",
   "metadata": {},
   "source": [
    "## Read raw data"
   ]
  },
  {
   "cell_type": "code",
   "execution_count": 237,
   "metadata": {
    "scrolled": true
   },
   "outputs": [
    {
     "data": {
      "text/html": [
       "<div>\n",
       "<style scoped>\n",
       "    .dataframe tbody tr th:only-of-type {\n",
       "        vertical-align: middle;\n",
       "    }\n",
       "\n",
       "    .dataframe tbody tr th {\n",
       "        vertical-align: top;\n",
       "    }\n",
       "\n",
       "    .dataframe thead th {\n",
       "        text-align: right;\n",
       "    }\n",
       "</style>\n",
       "<table border=\"1\" class=\"dataframe\">\n",
       "  <thead>\n",
       "    <tr style=\"text-align: right;\">\n",
       "      <th></th>\n",
       "      <th>MsL</th>\n",
       "      <th>NoD</th>\n",
       "      <th>MsF</th>\n",
       "      <th>Made</th>\n",
       "    </tr>\n",
       "  </thead>\n",
       "  <tbody>\n",
       "    <tr>\n",
       "      <th>619</th>\n",
       "      <td>2</td>\n",
       "      <td>50</td>\n",
       "      <td>98</td>\n",
       "      <td>1</td>\n",
       "    </tr>\n",
       "    <tr>\n",
       "      <th>664</th>\n",
       "      <td>0</td>\n",
       "      <td>13</td>\n",
       "      <td>28</td>\n",
       "      <td>1</td>\n",
       "    </tr>\n",
       "    <tr>\n",
       "      <th>441</th>\n",
       "      <td>1</td>\n",
       "      <td>16</td>\n",
       "      <td>35</td>\n",
       "      <td>1</td>\n",
       "    </tr>\n",
       "    <tr>\n",
       "      <th>160</th>\n",
       "      <td>2</td>\n",
       "      <td>20</td>\n",
       "      <td>45</td>\n",
       "      <td>1</td>\n",
       "    </tr>\n",
       "    <tr>\n",
       "      <th>358</th>\n",
       "      <td>1</td>\n",
       "      <td>24</td>\n",
       "      <td>77</td>\n",
       "      <td>0</td>\n",
       "    </tr>\n",
       "    <tr>\n",
       "      <th>335</th>\n",
       "      <td>4</td>\n",
       "      <td>4</td>\n",
       "      <td>4</td>\n",
       "      <td>0</td>\n",
       "    </tr>\n",
       "    <tr>\n",
       "      <th>47</th>\n",
       "      <td>2</td>\n",
       "      <td>7</td>\n",
       "      <td>14</td>\n",
       "      <td>1</td>\n",
       "    </tr>\n",
       "    <tr>\n",
       "      <th>164</th>\n",
       "      <td>1</td>\n",
       "      <td>12</td>\n",
       "      <td>35</td>\n",
       "      <td>0</td>\n",
       "    </tr>\n",
       "    <tr>\n",
       "      <th>736</th>\n",
       "      <td>5</td>\n",
       "      <td>46</td>\n",
       "      <td>98</td>\n",
       "      <td>1</td>\n",
       "    </tr>\n",
       "    <tr>\n",
       "      <th>436</th>\n",
       "      <td>0</td>\n",
       "      <td>3</td>\n",
       "      <td>4</td>\n",
       "      <td>0</td>\n",
       "    </tr>\n",
       "    <tr>\n",
       "      <th>460</th>\n",
       "      <td>2</td>\n",
       "      <td>10</td>\n",
       "      <td>28</td>\n",
       "      <td>1</td>\n",
       "    </tr>\n",
       "    <tr>\n",
       "      <th>285</th>\n",
       "      <td>1</td>\n",
       "      <td>13</td>\n",
       "      <td>47</td>\n",
       "      <td>0</td>\n",
       "    </tr>\n",
       "    <tr>\n",
       "      <th>499</th>\n",
       "      <td>2</td>\n",
       "      <td>6</td>\n",
       "      <td>15</td>\n",
       "      <td>1</td>\n",
       "    </tr>\n",
       "    <tr>\n",
       "      <th>356</th>\n",
       "      <td>2</td>\n",
       "      <td>5</td>\n",
       "      <td>11</td>\n",
       "      <td>1</td>\n",
       "    </tr>\n",
       "    <tr>\n",
       "      <th>40</th>\n",
       "      <td>2</td>\n",
       "      <td>14</td>\n",
       "      <td>48</td>\n",
       "      <td>1</td>\n",
       "    </tr>\n",
       "    <tr>\n",
       "      <th>191</th>\n",
       "      <td>2</td>\n",
       "      <td>15</td>\n",
       "      <td>49</td>\n",
       "      <td>1</td>\n",
       "    </tr>\n",
       "    <tr>\n",
       "      <th>638</th>\n",
       "      <td>2</td>\n",
       "      <td>6</td>\n",
       "      <td>15</td>\n",
       "      <td>1</td>\n",
       "    </tr>\n",
       "    <tr>\n",
       "      <th>345</th>\n",
       "      <td>2</td>\n",
       "      <td>3</td>\n",
       "      <td>4</td>\n",
       "      <td>1</td>\n",
       "    </tr>\n",
       "    <tr>\n",
       "      <th>463</th>\n",
       "      <td>2</td>\n",
       "      <td>3</td>\n",
       "      <td>4</td>\n",
       "      <td>1</td>\n",
       "    </tr>\n",
       "    <tr>\n",
       "      <th>372</th>\n",
       "      <td>4</td>\n",
       "      <td>11</td>\n",
       "      <td>28</td>\n",
       "      <td>0</td>\n",
       "    </tr>\n",
       "    <tr>\n",
       "      <th>8</th>\n",
       "      <td>2</td>\n",
       "      <td>6</td>\n",
       "      <td>16</td>\n",
       "      <td>1</td>\n",
       "    </tr>\n",
       "    <tr>\n",
       "      <th>539</th>\n",
       "      <td>2</td>\n",
       "      <td>6</td>\n",
       "      <td>16</td>\n",
       "      <td>1</td>\n",
       "    </tr>\n",
       "    <tr>\n",
       "      <th>734</th>\n",
       "      <td>4</td>\n",
       "      <td>14</td>\n",
       "      <td>40</td>\n",
       "      <td>0</td>\n",
       "    </tr>\n",
       "    <tr>\n",
       "      <th>573</th>\n",
       "      <td>4</td>\n",
       "      <td>6</td>\n",
       "      <td>14</td>\n",
       "      <td>0</td>\n",
       "    </tr>\n",
       "    <tr>\n",
       "      <th>482</th>\n",
       "      <td>4</td>\n",
       "      <td>8</td>\n",
       "      <td>21</td>\n",
       "      <td>0</td>\n",
       "    </tr>\n",
       "    <tr>\n",
       "      <th>330</th>\n",
       "      <td>1</td>\n",
       "      <td>14</td>\n",
       "      <td>58</td>\n",
       "      <td>0</td>\n",
       "    </tr>\n",
       "    <tr>\n",
       "      <th>222</th>\n",
       "      <td>4</td>\n",
       "      <td>10</td>\n",
       "      <td>28</td>\n",
       "      <td>1</td>\n",
       "    </tr>\n",
       "    <tr>\n",
       "      <th>175</th>\n",
       "      <td>4</td>\n",
       "      <td>10</td>\n",
       "      <td>28</td>\n",
       "      <td>1</td>\n",
       "    </tr>\n",
       "    <tr>\n",
       "      <th>606</th>\n",
       "      <td>2</td>\n",
       "      <td>16</td>\n",
       "      <td>64</td>\n",
       "      <td>0</td>\n",
       "    </tr>\n",
       "    <tr>\n",
       "      <th>340</th>\n",
       "      <td>2</td>\n",
       "      <td>8</td>\n",
       "      <td>28</td>\n",
       "      <td>1</td>\n",
       "    </tr>\n",
       "    <tr>\n",
       "      <th>...</th>\n",
       "      <td>...</td>\n",
       "      <td>...</td>\n",
       "      <td>...</td>\n",
       "      <td>...</td>\n",
       "    </tr>\n",
       "    <tr>\n",
       "      <th>577</th>\n",
       "      <td>11</td>\n",
       "      <td>4</td>\n",
       "      <td>74</td>\n",
       "      <td>0</td>\n",
       "    </tr>\n",
       "    <tr>\n",
       "      <th>118</th>\n",
       "      <td>21</td>\n",
       "      <td>6</td>\n",
       "      <td>48</td>\n",
       "      <td>0</td>\n",
       "    </tr>\n",
       "    <tr>\n",
       "      <th>532</th>\n",
       "      <td>23</td>\n",
       "      <td>2</td>\n",
       "      <td>23</td>\n",
       "      <td>0</td>\n",
       "    </tr>\n",
       "    <tr>\n",
       "      <th>338</th>\n",
       "      <td>23</td>\n",
       "      <td>6</td>\n",
       "      <td>45</td>\n",
       "      <td>0</td>\n",
       "    </tr>\n",
       "    <tr>\n",
       "      <th>365</th>\n",
       "      <td>14</td>\n",
       "      <td>2</td>\n",
       "      <td>35</td>\n",
       "      <td>1</td>\n",
       "    </tr>\n",
       "    <tr>\n",
       "      <th>173</th>\n",
       "      <td>16</td>\n",
       "      <td>4</td>\n",
       "      <td>58</td>\n",
       "      <td>0</td>\n",
       "    </tr>\n",
       "    <tr>\n",
       "      <th>715</th>\n",
       "      <td>16</td>\n",
       "      <td>5</td>\n",
       "      <td>71</td>\n",
       "      <td>0</td>\n",
       "    </tr>\n",
       "    <tr>\n",
       "      <th>2</th>\n",
       "      <td>21</td>\n",
       "      <td>2</td>\n",
       "      <td>26</td>\n",
       "      <td>0</td>\n",
       "    </tr>\n",
       "    <tr>\n",
       "      <th>387</th>\n",
       "      <td>21</td>\n",
       "      <td>3</td>\n",
       "      <td>35</td>\n",
       "      <td>0</td>\n",
       "    </tr>\n",
       "    <tr>\n",
       "      <th>738</th>\n",
       "      <td>23</td>\n",
       "      <td>8</td>\n",
       "      <td>69</td>\n",
       "      <td>0</td>\n",
       "    </tr>\n",
       "    <tr>\n",
       "      <th>610</th>\n",
       "      <td>21</td>\n",
       "      <td>3</td>\n",
       "      <td>38</td>\n",
       "      <td>0</td>\n",
       "    </tr>\n",
       "    <tr>\n",
       "      <th>450</th>\n",
       "      <td>21</td>\n",
       "      <td>3</td>\n",
       "      <td>40</td>\n",
       "      <td>0</td>\n",
       "    </tr>\n",
       "    <tr>\n",
       "      <th>232</th>\n",
       "      <td>21</td>\n",
       "      <td>1</td>\n",
       "      <td>21</td>\n",
       "      <td>0</td>\n",
       "    </tr>\n",
       "    <tr>\n",
       "      <th>440</th>\n",
       "      <td>21</td>\n",
       "      <td>1</td>\n",
       "      <td>21</td>\n",
       "      <td>0</td>\n",
       "    </tr>\n",
       "    <tr>\n",
       "      <th>183</th>\n",
       "      <td>25</td>\n",
       "      <td>6</td>\n",
       "      <td>50</td>\n",
       "      <td>0</td>\n",
       "    </tr>\n",
       "    <tr>\n",
       "      <th>60</th>\n",
       "      <td>21</td>\n",
       "      <td>1</td>\n",
       "      <td>21</td>\n",
       "      <td>0</td>\n",
       "    </tr>\n",
       "    <tr>\n",
       "      <th>58</th>\n",
       "      <td>21</td>\n",
       "      <td>1</td>\n",
       "      <td>21</td>\n",
       "      <td>0</td>\n",
       "    </tr>\n",
       "    <tr>\n",
       "      <th>49</th>\n",
       "      <td>23</td>\n",
       "      <td>3</td>\n",
       "      <td>39</td>\n",
       "      <td>0</td>\n",
       "    </tr>\n",
       "    <tr>\n",
       "      <th>674</th>\n",
       "      <td>21</td>\n",
       "      <td>2</td>\n",
       "      <td>33</td>\n",
       "      <td>0</td>\n",
       "    </tr>\n",
       "    <tr>\n",
       "      <th>204</th>\n",
       "      <td>14</td>\n",
       "      <td>3</td>\n",
       "      <td>79</td>\n",
       "      <td>0</td>\n",
       "    </tr>\n",
       "    <tr>\n",
       "      <th>361</th>\n",
       "      <td>23</td>\n",
       "      <td>1</td>\n",
       "      <td>23</td>\n",
       "      <td>1</td>\n",
       "    </tr>\n",
       "    <tr>\n",
       "      <th>30</th>\n",
       "      <td>23</td>\n",
       "      <td>1</td>\n",
       "      <td>23</td>\n",
       "      <td>0</td>\n",
       "    </tr>\n",
       "    <tr>\n",
       "      <th>337</th>\n",
       "      <td>23</td>\n",
       "      <td>1</td>\n",
       "      <td>23</td>\n",
       "      <td>0</td>\n",
       "    </tr>\n",
       "    <tr>\n",
       "      <th>496</th>\n",
       "      <td>23</td>\n",
       "      <td>1</td>\n",
       "      <td>23</td>\n",
       "      <td>0</td>\n",
       "    </tr>\n",
       "    <tr>\n",
       "      <th>169</th>\n",
       "      <td>23</td>\n",
       "      <td>1</td>\n",
       "      <td>23</td>\n",
       "      <td>0</td>\n",
       "    </tr>\n",
       "    <tr>\n",
       "      <th>698</th>\n",
       "      <td>23</td>\n",
       "      <td>1</td>\n",
       "      <td>23</td>\n",
       "      <td>0</td>\n",
       "    </tr>\n",
       "    <tr>\n",
       "      <th>433</th>\n",
       "      <td>16</td>\n",
       "      <td>3</td>\n",
       "      <td>86</td>\n",
       "      <td>0</td>\n",
       "    </tr>\n",
       "    <tr>\n",
       "      <th>360</th>\n",
       "      <td>21</td>\n",
       "      <td>2</td>\n",
       "      <td>52</td>\n",
       "      <td>0</td>\n",
       "    </tr>\n",
       "    <tr>\n",
       "      <th>541</th>\n",
       "      <td>39</td>\n",
       "      <td>1</td>\n",
       "      <td>39</td>\n",
       "      <td>0</td>\n",
       "    </tr>\n",
       "    <tr>\n",
       "      <th>74</th>\n",
       "      <td>72</td>\n",
       "      <td>1</td>\n",
       "      <td>72</td>\n",
       "      <td>0</td>\n",
       "    </tr>\n",
       "  </tbody>\n",
       "</table>\n",
       "<p>576 rows × 4 columns</p>\n",
       "</div>"
      ],
      "text/plain": [
       "     MsL  NoD  MsF  Made\n",
       "619    2   50   98     1\n",
       "664    0   13   28     1\n",
       "441    1   16   35     1\n",
       "160    2   20   45     1\n",
       "358    1   24   77     0\n",
       "335    4    4    4     0\n",
       "47     2    7   14     1\n",
       "164    1   12   35     0\n",
       "736    5   46   98     1\n",
       "436    0    3    4     0\n",
       "460    2   10   28     1\n",
       "285    1   13   47     0\n",
       "499    2    6   15     1\n",
       "356    2    5   11     1\n",
       "40     2   14   48     1\n",
       "191    2   15   49     1\n",
       "638    2    6   15     1\n",
       "345    2    3    4     1\n",
       "463    2    3    4     1\n",
       "372    4   11   28     0\n",
       "8      2    6   16     1\n",
       "539    2    6   16     1\n",
       "734    4   14   40     0\n",
       "573    4    6   14     0\n",
       "482    4    8   21     0\n",
       "330    1   14   58     0\n",
       "222    4   10   28     1\n",
       "175    4   10   28     1\n",
       "606    2   16   64     0\n",
       "340    2    8   28     1\n",
       "..   ...  ...  ...   ...\n",
       "577   11    4   74     0\n",
       "118   21    6   48     0\n",
       "532   23    2   23     0\n",
       "338   23    6   45     0\n",
       "365   14    2   35     1\n",
       "173   16    4   58     0\n",
       "715   16    5   71     0\n",
       "2     21    2   26     0\n",
       "387   21    3   35     0\n",
       "738   23    8   69     0\n",
       "610   21    3   38     0\n",
       "450   21    3   40     0\n",
       "232   21    1   21     0\n",
       "440   21    1   21     0\n",
       "183   25    6   50     0\n",
       "60    21    1   21     0\n",
       "58    21    1   21     0\n",
       "49    23    3   39     0\n",
       "674   21    2   33     0\n",
       "204   14    3   79     0\n",
       "361   23    1   23     1\n",
       "30    23    1   23     0\n",
       "337   23    1   23     0\n",
       "496   23    1   23     0\n",
       "169   23    1   23     0\n",
       "698   23    1   23     0\n",
       "433   16    3   86     0\n",
       "360   21    2   52     0\n",
       "541   39    1   39     0\n",
       "74    72    1   72     0\n",
       "\n",
       "[576 rows x 4 columns]"
      ]
     },
     "execution_count": 237,
     "metadata": {},
     "output_type": "execute_result"
    }
   ],
   "source": [
    "model_data = pd.read_csv(\"9db113a1-cdbe-4b1c-98c2-11590f124dd8.csv\", index_col=0)\n",
    "real_data = pd.read_csv(\"5c9fa979-5a84-45d6-93b9-543d1a0efc41.csv\", index_col=0)\n",
    "\n",
    "model_data = model_data.drop(columns='Total Volume Donated (c.c.)')  # This is just 250 times Number of Donations\n",
    "real_data = real_data.drop(columns='Total Volume Donated (c.c.)')\n",
    "new_colnames = dict(zip(model_data.columns, ['MsL', 'NoD', 'MsF', 'Made']))\n",
    "model_data = model_data.rename(new_colnames, axis=\"columns\")\n",
    "real_data = real_data.rename(new_colnames, axis=\"columns\")\n",
    "\n",
    "X = model_data.drop(columns='Made')\n",
    "y = model_data['Made']\n",
    "X_real = real_data\n",
    "model_data"
   ]
  },
  {
   "cell_type": "code",
   "execution_count": 238,
   "metadata": {},
   "outputs": [
    {
     "name": "stdout",
     "output_type": "stream",
     "text": [
      "<class 'pandas.core.frame.DataFrame'>\n",
      "Int64Index: 576 entries, 619 to 74\n",
      "Data columns (total 4 columns):\n",
      "MsL     576 non-null int64\n",
      "NoD     576 non-null int64\n",
      "MsF     576 non-null int64\n",
      "Made    576 non-null int64\n",
      "dtypes: int64(4)\n",
      "memory usage: 22.5 KB\n"
     ]
    }
   ],
   "source": [
    "model_data.info()"
   ]
  },
  {
   "cell_type": "markdown",
   "metadata": {},
   "source": [
    "## New features"
   ]
  },
  {
   "cell_type": "code",
   "execution_count": 239,
   "metadata": {
    "scrolled": true
   },
   "outputs": [],
   "source": [
    "# Average time between donations (donation rate)\n",
    "# Commitment (Good: donates since many months, donates recently too)\n",
    "# Difference (Good: big), similar to commitment\n",
    "# NOTE: These did not help much...\n",
    "\n",
    "#X['Rate'] = (X['MsF'] - X['MsL']) / X['NoD'] + 0.001\n",
    "#X['Cmtd'] = np.maximum(X['MsL'] / X['MsF'], 1/1000)  # We do not want zeros\n",
    "#X['Diff'] = np.log(X['MsF'] - X['MsL'] + 1.001)\n",
    "\n",
    "#X_real['Rate'] = (X_real['MsF'] - X_real['MsL']) / X_real['NoD']\n",
    "#X_real['Cmtd'] = np.maximum(X_real['MsL'] / X_real['MsF'], 1/1000)  # We do not want zeros\n",
    "#X_real['Diff'] = np.log(X_real['MsF'] - X_real['MsL'] + 1.001)"
   ]
  },
  {
   "cell_type": "markdown",
   "metadata": {},
   "source": [
    "## Box-Cox transformation"
   ]
  },
  {
   "cell_type": "code",
   "execution_count": 240,
   "metadata": {},
   "outputs": [],
   "source": [
    "X = X + 0.00001\n",
    "X_real = X_real + 0.00001\n",
    "X = pd.concat([pd.Series(boxcox(X.iloc[:, x])[0], index=X.index, name=X.columns[x]) for x in range(X.shape[1])], axis=1) \n",
    "X_real = pd.concat([pd.Series(boxcox(X_real.iloc[:, x])[0], index=X_real.index, name=X_real.columns[x]) for x in range(X_real.shape[1])], axis=1) "
   ]
  },
  {
   "cell_type": "markdown",
   "metadata": {},
   "source": [
    "## Interactions"
   ]
  },
  {
   "cell_type": "code",
   "execution_count": 241,
   "metadata": {},
   "outputs": [
    {
     "data": {
      "text/plain": [
       "PolynomialFeatures(degree=2, include_bias=True, interaction_only=True)"
      ]
     },
     "execution_count": 241,
     "metadata": {},
     "output_type": "execute_result"
    }
   ],
   "source": [
    "# Note: This did not help much\n",
    "\n",
    "# Interaction features\n",
    "poly = PolynomialFeatures(degree=2, interaction_only=True)\n",
    "poly.fit(X, y)\n",
    "#X = pd.DataFrame(poly.transform(X), index=X.index)\n",
    "poly.fit(X_real, y)\n",
    "#X_real = pd.DataFrame(poly.transform(X_real), index=X_real.index)"
   ]
  },
  {
   "cell_type": "markdown",
   "metadata": {},
   "source": [
    "## Scaling"
   ]
  },
  {
   "cell_type": "code",
   "execution_count": 242,
   "metadata": {},
   "outputs": [],
   "source": [
    "# Scaling\n",
    "scaler = RobustScaler()\n",
    "scaler.fit(X, y)\n",
    "X = pd.DataFrame(scaler.transform(X), index=X.index, columns=X.columns)\n",
    "scaler.fit(X_real)\n",
    "X_real = pd.DataFrame(scaler.transform(X_real), index=X_real.index, columns=X_real.columns)"
   ]
  },
  {
   "cell_type": "markdown",
   "metadata": {},
   "source": [
    "# EDA"
   ]
  },
  {
   "cell_type": "markdown",
   "metadata": {},
   "source": [
    "## Visualize scatter plots in matrix."
   ]
  },
  {
   "cell_type": "code",
   "execution_count": 243,
   "metadata": {
    "scrolled": true
   },
   "outputs": [
    {
     "data": {
      "image/png": "[encoded data removed]",
      "text/plain": [
       "<Figure size 576x576 with 16 Axes>"
      ]
     },
     "metadata": {},
     "output_type": "display_data"
    }
   ],
   "source": [
    "full_data = pd.concat([X, y], axis=1)\n",
    "ax = pd.plotting.scatter_matrix(full_data, figsize=(8, 8))"
   ]
  },
  {
   "cell_type": "markdown",
   "metadata": {},
   "source": [
    "## Correlation"
   ]
  },
  {
   "cell_type": "code",
   "execution_count": 244,
   "metadata": {},
   "outputs": [
    {
     "data": {
      "text/html": [
       "<div>\n",
       "<style scoped>\n",
       "    .dataframe tbody tr th:only-of-type {\n",
       "        vertical-align: middle;\n",
       "    }\n",
       "\n",
       "    .dataframe tbody tr th {\n",
       "        vertical-align: top;\n",
       "    }\n",
       "\n",
       "    .dataframe thead th {\n",
       "        text-align: right;\n",
       "    }\n",
       "</style>\n",
       "<table border=\"1\" class=\"dataframe\">\n",
       "  <thead>\n",
       "    <tr style=\"text-align: right;\">\n",
       "      <th></th>\n",
       "      <th>MsL</th>\n",
       "      <th>NoD</th>\n",
       "      <th>MsF</th>\n",
       "      <th>Made</th>\n",
       "    </tr>\n",
       "  </thead>\n",
       "  <tbody>\n",
       "    <tr>\n",
       "      <th>MsL</th>\n",
       "      <td>1.000000</td>\n",
       "      <td>-0.188706</td>\n",
       "      <td>0.252586</td>\n",
       "      <td>-0.277250</td>\n",
       "    </tr>\n",
       "    <tr>\n",
       "      <th>NoD</th>\n",
       "      <td>-0.188706</td>\n",
       "      <td>1.000000</td>\n",
       "      <td>0.712147</td>\n",
       "      <td>0.240538</td>\n",
       "    </tr>\n",
       "    <tr>\n",
       "      <th>MsF</th>\n",
       "      <td>0.252586</td>\n",
       "      <td>0.712147</td>\n",
       "      <td>1.000000</td>\n",
       "      <td>-0.009530</td>\n",
       "    </tr>\n",
       "    <tr>\n",
       "      <th>Made</th>\n",
       "      <td>-0.277250</td>\n",
       "      <td>0.240538</td>\n",
       "      <td>-0.009530</td>\n",
       "      <td>1.000000</td>\n",
       "    </tr>\n",
       "  </tbody>\n",
       "</table>\n",
       "</div>"
      ],
      "text/plain": [
       "           MsL       NoD       MsF      Made\n",
       "MsL   1.000000 -0.188706  0.252586 -0.277250\n",
       "NoD  -0.188706  1.000000  0.712147  0.240538\n",
       "MsF   0.252586  0.712147  1.000000 -0.009530\n",
       "Made -0.277250  0.240538 -0.009530  1.000000"
      ]
     },
     "execution_count": 244,
     "metadata": {},
     "output_type": "execute_result"
    }
   ],
   "source": [
    "full_data.corr()"
   ]
  },
  {
   "cell_type": "markdown",
   "metadata": {},
   "source": [
    "## Box plot of features"
   ]
  },
  {
   "cell_type": "code",
   "execution_count": 245,
   "metadata": {},
   "outputs": [
    {
     "data": {
      "text/plain": [
       "<matplotlib.axes._subplots.AxesSubplot at 0x21df7dc9b38>"
      ]
     },
     "execution_count": 245,
     "metadata": {},
     "output_type": "execute_result"
    },
    {
     "data": {
      "image/png": "[encoded data removed]",
      "text/plain": [
       "<Figure size 504x288 with 1 Axes>"
      ]
     },
     "metadata": {},
     "output_type": "display_data"
    }
   ],
   "source": [
    "X.boxplot(figsize=(7, 4))"
   ]
  },
  {
   "cell_type": "markdown",
   "metadata": {},
   "source": [
    "## 3D plot of original features"
   ]
  },
  {
   "cell_type": "code",
   "execution_count": 246,
   "metadata": {
    "scrolled": true
   },
   "outputs": [
    {
     "data": {
      "image/png": "[encoded data removed]",
      "text/plain": [
       "<Figure size 432x288 with 1 Axes>"
      ]
     },
     "metadata": {},
     "output_type": "display_data"
    }
   ],
   "source": [
    "fig = plt.figure()\n",
    "ax = Axes3D(fig)\n",
    "\n",
    "x1 = X['MsL']\n",
    "x2 = X['MsF']\n",
    "x3 = X['NoD']\n",
    "color = y\n",
    "ax.scatter(x1, x2, x3, c=color, cmap='bwr')\n",
    "plt.show()"
   ]
  },
  {
   "cell_type": "markdown",
   "metadata": {},
   "source": [
    "# Models"
   ]
  },
  {
   "cell_type": "markdown",
   "metadata": {},
   "source": [
    "## Simple feed forward neural network model"
   ]
  },
  {
   "cell_type": "code",
   "execution_count": 247,
   "metadata": {
    "scrolled": true
   },
   "outputs": [
    {
     "name": "stdout",
     "output_type": "stream",
     "text": [
      "Train on 403 samples, validate on 173 samples\n",
      "Epoch 1/40\n",
      "403/403 [==============================] - 2s 5ms/step - loss: 0.5480 - acc: 0.7370 - val_loss: 0.4378 - val_acc: 0.8150\n",
      "Epoch 2/40\n",
      "403/403 [==============================] - 0s 352us/step - loss: 0.4983 - acc: 0.7395 - val_loss: 0.4211 - val_acc: 0.8092\n",
      "Epoch 3/40\n",
      "403/403 [==============================] - 0s 346us/step - loss: 0.4908 - acc: 0.7717 - val_loss: 0.4200 - val_acc: 0.8439\n",
      "Epoch 4/40\n",
      "403/403 [==============================] - 0s 254us/step - loss: 0.4876 - acc: 0.7692 - val_loss: 0.4193 - val_acc: 0.8555\n",
      "Epoch 5/40\n",
      "403/403 [==============================] - 0s 237us/step - loss: 0.4859 - acc: 0.7767 - val_loss: 0.4175 - val_acc: 0.8555\n",
      "Epoch 6/40\n",
      "403/403 [==============================] - 0s 252us/step - loss: 0.4837 - acc: 0.7792 - val_loss: 0.4188 - val_acc: 0.8497\n",
      "Epoch 7/40\n",
      "403/403 [==============================] - ETA: 0s - loss: 0.4649 - acc: 0.807 - 0s 242us/step - loss: 0.4830 - acc: 0.7841 - val_loss: 0.4177 - val_acc: 0.8497\n",
      "Epoch 8/40\n",
      "403/403 [==============================] - 0s 232us/step - loss: 0.4815 - acc: 0.7841 - val_loss: 0.4170 - val_acc: 0.8497\n",
      "Epoch 9/40\n",
      "403/403 [==============================] - 0s 206us/step - loss: 0.4806 - acc: 0.7866 - val_loss: 0.4170 - val_acc: 0.8497\n",
      "Epoch 10/40\n",
      "403/403 [==============================] - 0s 186us/step - loss: 0.4801 - acc: 0.7866 - val_loss: 0.4159 - val_acc: 0.8497\n",
      "Epoch 11/40\n",
      "403/403 [==============================] - 0s 226us/step - loss: 0.4793 - acc: 0.7866 - val_loss: 0.4168 - val_acc: 0.8497\n",
      "Epoch 12/40\n",
      "403/403 [==============================] - 0s 221us/step - loss: 0.4790 - acc: 0.7866 - val_loss: 0.4164 - val_acc: 0.8497\n",
      "Epoch 13/40\n",
      "403/403 [==============================] - 0s 219us/step - loss: 0.4786 - acc: 0.7891 - val_loss: 0.4162 - val_acc: 0.8497\n",
      "Epoch 14/40\n",
      "403/403 [==============================] - 0s 211us/step - loss: 0.4783 - acc: 0.7866 - val_loss: 0.4156 - val_acc: 0.8497\n",
      "Epoch 15/40\n",
      "403/403 [==============================] - 0s 218us/step - loss: 0.4785 - acc: 0.7866 - val_loss: 0.4155 - val_acc: 0.8497\n",
      "Epoch 16/40\n",
      "403/403 [==============================] - 0s 223us/step - loss: 0.4778 - acc: 0.7866 - val_loss: 0.4151 - val_acc: 0.8497\n",
      "Epoch 17/40\n",
      "403/403 [==============================] - 0s 223us/step - loss: 0.4774 - acc: 0.7866 - val_loss: 0.4157 - val_acc: 0.8497\n",
      "Epoch 18/40\n",
      "403/403 [==============================] - 0s 204us/step - loss: 0.4772 - acc: 0.7866 - val_loss: 0.4153 - val_acc: 0.8497\n",
      "Epoch 19/40\n",
      "403/403 [==============================] - 0s 225us/step - loss: 0.4770 - acc: 0.7866 - val_loss: 0.4156 - val_acc: 0.8497\n",
      "Epoch 20/40\n",
      "403/403 [==============================] - 0s 225us/step - loss: 0.4770 - acc: 0.7866 - val_loss: 0.4153 - val_acc: 0.8497\n",
      "Epoch 21/40\n",
      "403/403 [==============================] - 0s 223us/step - loss: 0.4767 - acc: 0.7866 - val_loss: 0.4151 - val_acc: 0.8497\n",
      "Epoch 22/40\n",
      "403/403 [==============================] - 0s 257us/step - loss: 0.4767 - acc: 0.7866 - val_loss: 0.4151 - val_acc: 0.8497\n",
      "Epoch 23/40\n",
      "403/403 [==============================] - 0s 235us/step - loss: 0.4766 - acc: 0.7866 - val_loss: 0.4153 - val_acc: 0.8497\n",
      "Epoch 24/40\n",
      "403/403 [==============================] - 0s 206us/step - loss: 0.4763 - acc: 0.7866 - val_loss: 0.4151 - val_acc: 0.8497\n",
      "Epoch 25/40\n",
      "403/403 [==============================] - 0s 211us/step - loss: 0.4761 - acc: 0.7866 - val_loss: 0.4149 - val_acc: 0.8497\n",
      "Epoch 26/40\n",
      "403/403 [==============================] - 0s 194us/step - loss: 0.4761 - acc: 0.7866 - val_loss: 0.4148 - val_acc: 0.8497\n",
      "Epoch 27/40\n",
      "403/403 [==============================] - 0s 232us/step - loss: 0.4758 - acc: 0.7866 - val_loss: 0.4150 - val_acc: 0.8497\n",
      "Epoch 28/40\n",
      "403/403 [==============================] - 0s 235us/step - loss: 0.4757 - acc: 0.7891 - val_loss: 0.4147 - val_acc: 0.8497\n",
      "Epoch 29/40\n",
      "403/403 [==============================] - 0s 206us/step - loss: 0.4756 - acc: 0.7866 - val_loss: 0.4146 - val_acc: 0.8497\n",
      "Epoch 30/40\n",
      "403/403 [==============================] - 0s 213us/step - loss: 0.4756 - acc: 0.7866 - val_loss: 0.4146 - val_acc: 0.8497\n",
      "Epoch 31/40\n",
      "403/403 [==============================] - 0s 203us/step - loss: 0.4753 - acc: 0.7866 - val_loss: 0.4145 - val_acc: 0.8497\n",
      "Epoch 32/40\n",
      "403/403 [==============================] - 0s 240us/step - loss: 0.4756 - acc: 0.7866 - val_loss: 0.4145 - val_acc: 0.8497\n",
      "Epoch 33/40\n",
      "403/403 [==============================] - 0s 213us/step - loss: 0.4753 - acc: 0.7866 - val_loss: 0.4145 - val_acc: 0.8497\n",
      "Epoch 34/40\n",
      "403/403 [==============================] - 0s 199us/step - loss: 0.4750 - acc: 0.7866 - val_loss: 0.4144 - val_acc: 0.8497\n",
      "Epoch 35/40\n",
      "403/403 [==============================] - 0s 224us/step - loss: 0.4749 - acc: 0.7841 - val_loss: 0.4143 - val_acc: 0.8497\n",
      "Epoch 36/40\n",
      "403/403 [==============================] - 0s 201us/step - loss: 0.4752 - acc: 0.7866 - val_loss: 0.4142 - val_acc: 0.8497\n",
      "Epoch 37/40\n",
      "403/403 [==============================] - 0s 199us/step - loss: 0.4750 - acc: 0.7866 - val_loss: 0.4141 - val_acc: 0.8497\n",
      "Epoch 38/40\n",
      "403/403 [==============================] - 0s 201us/step - loss: 0.4747 - acc: 0.7841 - val_loss: 0.4143 - val_acc: 0.8497\n",
      "Epoch 39/40\n",
      "403/403 [==============================] - 0s 225us/step - loss: 0.4747 - acc: 0.7866 - val_loss: 0.4142 - val_acc: 0.8497\n",
      "Epoch 40/40\n",
      "403/403 [==============================] - 0s 233us/step - loss: 0.4745 - acc: 0.7841 - val_loss: 0.4143 - val_acc: 0.8497\n"
     ]
    },
    {
     "data": {
      "text/plain": [
       "<keras.callbacks.History at 0x21df94c4438>"
      ]
     },
     "execution_count": 247,
     "metadata": {},
     "output_type": "execute_result"
    }
   ],
   "source": [
    "input_num = X.shape[1]\n",
    "\n",
    "early = EarlyStopping(patience=2)\n",
    "optimizer = Adam(lr=0.01, decay=0.1, amsgrad=False)\n",
    "\n",
    "model_nn = Sequential()\n",
    "model_nn.add(Dense(60, activation='relu', input_shape=(input_num,)))\n",
    "model_nn.add(Dense(30, activation='relu'))\n",
    "model_nn.add(Dense(15, activation='relu'))\n",
    "model_nn.add(Dense(5, activation='relu'))\n",
    "model_nn.add(Dense(1, activation='sigmoid'))\n",
    "model_nn.compile(optimizer=optimizer, loss='binary_crossentropy', metrics=['accuracy'])\n",
    "model_nn.fit(X, y, epochs=40, validation_split=0.3, callbacks=[], batch_size=10)"
   ]
  },
  {
   "cell_type": "code",
   "execution_count": 248,
   "metadata": {},
   "outputs": [],
   "source": [
    "# Predict real data\n",
    "y_pred = model_nn.predict_proba(X_real)"
   ]
  },
  {
   "cell_type": "code",
   "execution_count": 249,
   "metadata": {},
   "outputs": [],
   "source": [
    "# Prepare submission\n",
    "df_submit = pd.DataFrame(y_pred, index=X_real.index, columns=['Made Donation in March 2007'])\n",
    "df_submit.to_csv(\"result_nn.csv\")"
   ]
  },
  {
   "cell_type": "markdown",
   "metadata": {},
   "source": [
    "# Classic models"
   ]
  },
  {
   "cell_type": "code",
   "execution_count": 250,
   "metadata": {},
   "outputs": [
    {
     "name": "stdout",
     "output_type": "stream",
     "text": [
      "0.5032361255912053\n"
     ]
    }
   ],
   "source": [
    "model1 = SVC(probability=True, kernel='rbf', random_state=42)\n",
    "model2 = SVC(probability=True, kernel='linear', random_state=42)\n",
    "model3 = LogisticRegression(penalty='l1', C=0.1)\n",
    "model4 = SGDClassifier(loss='log', max_iter=1000, alpha=0.05, penalty='l2')\n",
    "model5 = KNeighborsClassifier(n_neighbors=50)\n",
    "model6 = XGBClassifier(objective ='binary:logistic', colsample_bytree = 0.2, subsample = 0.3, learning_rate = 0.05,\n",
    "                max_depth = 3, alpha = 1, gamma = 7, n_estimators = 60)\n",
    "\n",
    "#param_grid = {'penalty': ['l1', 'l2'], 'alpha' : [0.001, 0.005, 0.01, 0.05, 0.1, 0.5, 1, 5]}\n",
    "#grid_search = GridSearchCV(model, param_grid, cv=10, scoring='neg_log_loss')\n",
    "#grid_search.fit(X, y)\n",
    "#print(grid_search.best_params_)\n",
    "\n",
    "X_train, X_test, y_train, y_test = train_test_split(X, y, test_size=0.3, random_state=42)\n",
    "\n",
    "model = model1\n",
    "steps = [\n",
    "#    ('scale', scaler), \n",
    "    ('model', model)\n",
    "]\n",
    "pl = Pipeline(steps)\n",
    "\n",
    "pl.fit(X_train, y_train)\n",
    "y_pred_train = pl.predict_proba(X_train)\n",
    "\n",
    "#score = -cross_val_score(pl, X, y, cv=5, scoring='neg_log_loss')\n",
    "#print(np.mean(score), np.std(score))\n",
    "\n",
    "print(log_loss(y_train, y_pred_train[:, 1]))"
   ]
  },
  {
   "cell_type": "code",
   "execution_count": 251,
   "metadata": {},
   "outputs": [],
   "source": [
    "# Predict real data\n",
    "pl.fit(X, y)\n",
    "y_pred = pl.predict_proba(X_real)"
   ]
  },
  {
   "cell_type": "code",
   "execution_count": 252,
   "metadata": {},
   "outputs": [],
   "source": [
    "# Submit data\n",
    "df_submit = pd.DataFrame(y_pred[:,1], index=X_real.index, columns=['Made Donation in March 2007'])\n",
    "df_submit.to_csv(\"result_classic.csv\")"
   ]
  }
 ],
 "metadata": {
  "kernelspec": {
   "display_name": "Python 3",
   "language": "python",
   "name": "python3"
  },
  "language_info": {
   "codemirror_mode": {
    "name": "ipython",
    "version": 3
   },
   "file_extension": ".py",
   "mimetype": "text/x-python",
   "name": "python",
   "nbconvert_exporter": "python",
   "pygments_lexer": "ipython3",
   "version": "3.5.2"
  }
 },
 "nbformat": 4,
 "nbformat_minor": 2
}
